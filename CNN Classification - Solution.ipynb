{
 "cells": [
  {
   "cell_type": "markdown",
   "metadata": {},
   "source": [
    "# Deep Learning and Applications : Joint Faculty Development Programme\n",
    "# May 27 -31, 2019 \n",
    "\n",
    "**Participating Academies : IIT Roorkee ,  MNIT Jaipur, NIT Patna, PDPM IIITDM Jabalpur  **\n",
    "\n",
    "**Prinicipal Coordinating Academies : IIT Roorkee and PDPM IIITDM Jabalpur**"
   ]
  },
  {
   "cell_type": "markdown",
   "metadata": {},
   "source": [
    "# Tutorial 3: Introduction to Convolution Neural Networks\n",
    "** In this tutorial, we provide you a brief introduction to Convolution Neural Networks(CNNs). You will be able to build a CNN model that can be used for classification.**\n"
   ]
  },
  {
   "cell_type": "markdown",
   "metadata": {},
   "source": [
    "Convolution Neural Networks are mainly use for large size input data such as Image data. \n",
    "* Convolution Neural Networks (CNNs) use parameter sharing.\n",
    "* Small pattern detectors called filters are used to convolve over the entire image.\n",
    "* These filters are learned through NN training in the same way as in fully connected networks.\n",
    "* Just like a hidden layer in a fully connected layer, convolution layers are used in CNNs.\n",
    "* To handle large size of image data, pooling layers are introduced.\n",
    "* Normalization layers were used in early CNN architectures, but due to their minimal impact, they are not much used in the present CNNs.\n"
   ]
  },
  {
   "cell_type": "markdown",
   "metadata": {},
   "source": [
    "** Today we are going to see a simple 3 convolution layers convolution neural network. We are going to use PlantVillage leaf \n",
    "dataset. It contains 38 classes dataset. From which we are just going to use 4 classes of Apple. The objective of the work is to Diseases classification in Apple leaves.**\n",
    "\n",
    "Dataset Link : :https://github.com/spMohanty/PlantVillage-Dataset/tree/master/raw/color\n",
    "We split the dataset into training validation and testing sample"
   ]
  },
  {
   "cell_type": "markdown",
   "metadata": {},
   "source": [
    "### A. Data Preprocessing"
   ]
  },
  {
   "cell_type": "markdown",
   "metadata": {},
   "source": [
    "** A1. Import required Libraries **\n",
    "* From keras library we are going to use image preprocessing task, to normalize the image pixel values in between 0 to 1.\n",
    "* Model is imported to load variuos Neural NEtwrok models such as Sequential.\n",
    "* We are going to use Stochastic Gradient Descent(SGD) as a optimizer \n",
    "* Keras layers such as Dense, Flatten, Conv2D and MaxPooling is used to implement the CNN model "
   ]
  },
  {
   "cell_type": "code",
   "execution_count": 72,
   "metadata": {},
   "outputs": [],
   "source": [
    "import numpy as np\n",
    "import keras\n",
    "from keras import models\n",
    "import matplotlib.pyplot as plt\n",
    "from keras.preprocessing import image\n",
    "from keras.preprocessing.image import ImageDataGenerator\n",
    "from keras.models import Model\n",
    "from keras.optimizers import SGD\n",
    "from keras import layers\n",
    "from keras.layers import  Dense, Flatten, Conv2D, MaxPooling2D\n",
    "from keras import Input\n",
    "                                                                                                            \n"
   ]
  },
  {
   "cell_type": "markdown",
   "metadata": {},
   "source": [
    "** A2. Loading the training and testing data and defining the basic parameters **\n",
    "* We are resizing the input image to 64 * 64\n",
    "\n",
    "* In the dataset :\n",
    "    Training Set : 70% \n",
    "    Validation Set : 20%\n",
    "    Test Set : 10%"
   ]
  },
  {
   "cell_type": "code",
   "execution_count": 73,
   "metadata": {},
   "outputs": [
    {
     "name": "stdout",
     "output_type": "stream",
     "text": [
      "Found 2217 images belonging to 4 classes.\n",
      "Found 635 images belonging to 4 classes.\n",
      "Found 319 images belonging to 4 classes.\n"
     ]
    }
   ],
   "source": [
    "# Normalize training and validation data in the range of 0 to 1\n",
    "train_datagen = ImageDataGenerator(rescale=1./255)\n",
    "validation_datagen = ImageDataGenerator(rescale=1./255)\n",
    "test_datagen = ImageDataGenerator(rescale=1./255)\n",
    "\n",
    "# Read the training sample and set the batch size \n",
    "train_generator = train_datagen.flow_from_directory(\n",
    "        'plant_village/train/',\n",
    "        target_size=(64, 64),\n",
    "        batch_size=16,\n",
    "        class_mode='categorical')\n",
    "\n",
    "# Read Validation data from directory and define target size with batch size\n",
    "validation_generator = validation_datagen.flow_from_directory(\n",
    "        'plant_village/val/',\n",
    "        target_size=(64, 64),\n",
    "        batch_size=16,\n",
    "        class_mode='categorical',\n",
    "        shuffle=False)\n",
    "\n",
    "test_generator = test_datagen.flow_from_directory(\n",
    "        'plant_village/test/',\n",
    "        target_size=(64, 64),\n",
    "        batch_size=1,\n",
    "        class_mode='categorical',\n",
    "        shuffle=False)\n"
   ]
  },
  {
   "cell_type": "markdown",
   "metadata": {},
   "source": [
    "### B. Model Building\n"
   ]
  },
  {
   "cell_type": "markdown",
   "metadata": {},
   "source": [
    "* We are going to use 2 convolution layers with 3*3 filer and relu as an activation function\n",
    "* Then max pooling layer with 2*2 filter is used\n",
    "* After that we are going to use Flatten layer\n",
    "* Then Dense layer is used with relu function\n",
    "* In the output layer softmax function is used with 4 neurons as we have four class dataset.\n",
    "* model.summary() is used to check the overall architecture of the model with number of learnable parameters in each \n",
    "\n",
    "#### B1. Model Definition"
   ]
  },
  {
   "cell_type": "code",
   "execution_count": 74,
   "metadata": {},
   "outputs": [
    {
     "name": "stdout",
     "output_type": "stream",
     "text": [
      "_________________________________________________________________\n",
      "Layer (type)                 Output Shape              Param #   \n",
      "=================================================================\n",
      "conv2d_44 (Conv2D)           (None, 62, 62, 128)       3584      \n",
      "_________________________________________________________________\n",
      "max_pooling2d_40 (MaxPooling (None, 31, 31, 128)       0         \n",
      "_________________________________________________________________\n",
      "conv2d_45 (Conv2D)           (None, 29, 29, 64)        73792     \n",
      "_________________________________________________________________\n",
      "max_pooling2d_41 (MaxPooling (None, 14, 14, 64)        0         \n",
      "_________________________________________________________________\n",
      "conv2d_46 (Conv2D)           (None, 12, 12, 64)        36928     \n",
      "_________________________________________________________________\n",
      "max_pooling2d_42 (MaxPooling (None, 6, 6, 64)          0         \n",
      "_________________________________________________________________\n",
      "flatten_12 (Flatten)         (None, 2304)              0         \n",
      "_________________________________________________________________\n",
      "dense_22 (Dense)             (None, 32)                73760     \n",
      "_________________________________________________________________\n",
      "dense_23 (Dense)             (None, 4)                 132       \n",
      "=================================================================\n",
      "Total params: 188,196\n",
      "Trainable params: 188,196\n",
      "Non-trainable params: 0\n",
      "_________________________________________________________________\n"
     ]
    }
   ],
   "source": [
    "# Create the model\n",
    "model = models.Sequential()\n",
    "# Add new layers\n",
    "model.add(Conv2D(128, kernel_size=(3,3), activation = 'relu', input_shape=(64,64,3)))\n",
    "model.add(MaxPooling2D(pool_size=(2,2)))\n",
    "model.add(Conv2D(64, kernel_size=(3,3), activation = 'relu'))\n",
    "model.add(MaxPooling2D(pool_size=(2,2)))\n",
    "model.add(Conv2D(64, kernel_size=(3,3), activation = 'relu'))\n",
    "model.add(MaxPooling2D(pool_size=(2,2)))\n",
    "model.add(layers.Flatten())\n",
    "model.add(layers.Dense(32, activation='relu'))\n",
    "model.add(layers.Dense(4, activation='softmax'))\n",
    "model.summary()"
   ]
  },
  {
   "cell_type": "markdown",
   "metadata": {},
   "source": [
    "### B2. Compile the model with SGD(Stochastic Gradient Descent) and train it with 10 epochs."
   ]
  },
  {
   "cell_type": "code",
   "execution_count": 75,
   "metadata": {
    "scrolled": false
   },
   "outputs": [
    {
     "name": "stdout",
     "output_type": "stream",
     "text": [
      "Epoch 1/10\n",
      "139/138 [==============================] - 59s 422ms/step - loss: 1.2047 - acc: 0.5077 - val_loss: 1.1609 - val_acc: 0.5181\n",
      "Epoch 2/10\n",
      "139/138 [==============================] - 61s 439ms/step - loss: 1.1278 - acc: 0.5237 - val_loss: 1.0963 - val_acc: 0.5780\n",
      "Epoch 3/10\n",
      "139/138 [==============================] - 57s 411ms/step - loss: 0.9346 - acc: 0.6093 - val_loss: 0.7740 - val_acc: 0.6646\n",
      "Epoch 4/10\n",
      "139/138 [==============================] - 57s 411ms/step - loss: 0.6303 - acc: 0.7636 - val_loss: 0.5770 - val_acc: 0.7685\n",
      "Epoch 5/10\n",
      "139/138 [==============================] - 58s 418ms/step - loss: 0.4677 - acc: 0.8336 - val_loss: 0.4226 - val_acc: 0.8567\n",
      "Epoch 6/10\n",
      "139/138 [==============================] - 67s 479ms/step - loss: 0.3922 - acc: 0.8534 - val_loss: 0.4503 - val_acc: 0.8331\n",
      "Epoch 7/10\n",
      "139/138 [==============================] - 62s 449ms/step - loss: 0.3642 - acc: 0.8688 - val_loss: 0.3694 - val_acc: 0.8661\n",
      "Epoch 8/10\n",
      "139/138 [==============================] - 62s 443ms/step - loss: 0.3326 - acc: 0.8822 - val_loss: 0.3266 - val_acc: 0.8961\n",
      "Epoch 9/10\n",
      "139/138 [==============================] - 70s 500ms/step - loss: 0.3117 - acc: 0.8837 - val_loss: 0.3167 - val_acc: 0.8929\n",
      "Epoch 10/10\n",
      "139/138 [==============================] - 66s 477ms/step - loss: 0.2861 - acc: 0.8984 - val_loss: 0.4251 - val_acc: 0.8583\n"
     ]
    }
   ],
   "source": [
    "sgd = SGD(lr=0.001,decay=1e-6, momentum=0.9, nesterov=True)\n",
    "# We are going to use accuracy metrics and cross entropy loss as performance parameters\n",
    "model.compile(sgd, loss='categorical_crossentropy', metrics=['acc'])\n",
    "# Train the model \n",
    "history = model.fit_generator(train_generator, \n",
    "      steps_per_epoch=train_generator.samples/train_generator.batch_size,\n",
    "      epochs=10,\n",
    "      validation_data=validation_generator,\n",
    "      validation_steps=validation_generator.samples/validation_generator.batch_size,\n",
    "      verbose=1)"
   ]
  },
  {
   "cell_type": "markdown",
   "metadata": {},
   "source": [
    "### B3. Saving the model\n"
   ]
  },
  {
   "cell_type": "code",
   "execution_count": 76,
   "metadata": {},
   "outputs": [],
   "source": [
    "model.save('cnn_classification.h5')"
   ]
  },
  {
   "cell_type": "markdown",
   "metadata": {},
   "source": [
    "### B4. Loading the Model"
   ]
  },
  {
   "cell_type": "code",
   "execution_count": 77,
   "metadata": {},
   "outputs": [],
   "source": [
    "model = models.load_model('cnn_classification.h5')"
   ]
  },
  {
   "cell_type": "markdown",
   "metadata": {},
   "source": [
    "### B5. Saving weignts of model"
   ]
  },
  {
   "cell_type": "code",
   "execution_count": 78,
   "metadata": {},
   "outputs": [],
   "source": [
    "model.save_weights('cnn_classification.h5')"
   ]
  },
  {
   "cell_type": "markdown",
   "metadata": {},
   "source": [
    "### B6. Loading the Model weights"
   ]
  },
  {
   "cell_type": "code",
   "execution_count": 79,
   "metadata": {},
   "outputs": [],
   "source": [
    "model.load_weights('cnn_classification.h5')"
   ]
  },
  {
   "cell_type": "markdown",
   "metadata": {},
   "source": [
    "### C. Performance Measures\n",
    "\n",
    "**Now we are going to plot the accuracy and loss **"
   ]
  },
  {
   "cell_type": "code",
   "execution_count": 80,
   "metadata": {},
   "outputs": [],
   "source": [
    "train_acc = history.history['acc']\n",
    "val_acc = history.history['val_acc']\n",
    "train_loss = history.history['loss']\n",
    "val_loss = history.history['val_loss']"
   ]
  },
  {
   "cell_type": "code",
   "execution_count": 81,
   "metadata": {
    "scrolled": true
   },
   "outputs": [
    {
     "data": {
      "image/png": "[encoded data removed]",
      "text/plain": [
       "<Figure size 432x288 with 1 Axes>"
      ]
     },
     "metadata": {},
     "output_type": "display_data"
    },
    {
     "data": {
      "text/plain": [
       "<Figure size 432x288 with 0 Axes>"
      ]
     },
     "metadata": {},
     "output_type": "display_data"
    },
    {
     "data": {
      "image/png": "[encoded data removed]",
      "text/plain": [
       "<Figure size 432x288 with 1 Axes>"
      ]
     },
     "metadata": {},
     "output_type": "display_data"
    }
   ],
   "source": [
    "epochs = range(len(acc)) \n",
    "plt.plot(epochs, train_acc, 'b', label='Training Accuracy')\n",
    "plt.plot(epochs, val_acc, 'r', label='Validation Accuracy')\n",
    "plt.title('Training and Validation Accuracy')\n",
    "plt.legend()\n",
    "plt.figure()\n",
    "plt.show()\n",
    "\n",
    "plt.plot(epochs, train_loss, 'b', label='Training Loss')\n",
    "plt.plot(epochs, val_loss, 'r', label='Validation Loss')\n",
    "plt.title('Training and Validation Loss')\n",
    "plt.legend()\n",
    "plt.show()\n"
   ]
  },
  {
   "cell_type": "markdown",
   "metadata": {},
   "source": [
    "# Model Testing"
   ]
  },
  {
   "cell_type": "code",
   "execution_count": 82,
   "metadata": {},
   "outputs": [
    {
     "name": "stdout",
     "output_type": "stream",
     "text": [
      "319/319 [==============================] - 3s 10ms/step\n",
      "No of errors = 48/319\n"
     ]
    }
   ],
   "source": [
    "# Get the filenames from the generator\n",
    "fnames = test_generator.filenames\n",
    " \n",
    "# Get the ground truth from generator\n",
    "ground_truth = test_generator.classes\n",
    " \n",
    "# Get the label to class mapping from the generator\n",
    "label2index = test_generator.class_indices\n",
    " \n",
    "# Getting the mapping from class index to class label\n",
    "idx2label = dict((v,k) for k,v in label2index.items())\n",
    " \n",
    "# Get the predictions from the model using the generator\n",
    "predictions = model.predict_generator(test_generator, steps=test_generator.samples/test_generator.batch_size,verbose=1)\n",
    "predicted_classes = np.argmax(predictions,axis=1)\n",
    " \n",
    "errors = np.where(predicted_classes != ground_truth)[0]\n",
    "print(\"No of errors = {}/{}\".format(len(errors),test_generator.samples))\n"
   ]
  },
  {
   "cell_type": "markdown",
   "metadata": {},
   "source": [
    "# Assignemnt\n",
    "**You have to load the weights of previous model and with the help of previous weights try to create a CNN model with one more convolution layers. You have to train only after the newly added convolution layers of the neural network. **\n",
    "\n",
    "Hint : Use model.load_weights('weights.h5', by_name=True)\n"
   ]
  },
  {
   "cell_type": "code",
   "execution_count": 128,
   "metadata": {},
   "outputs": [
    {
     "name": "stdout",
     "output_type": "stream",
     "text": [
      "_________________________________________________________________\n",
      "Layer (type)                 Output Shape              Param #   \n",
      "=================================================================\n",
      "conv2d_138 (Conv2D)          (None, 62, 62, 128)       3584      \n",
      "_________________________________________________________________\n",
      "max_pooling2d_120 (MaxPoolin (None, 31, 31, 128)       0         \n",
      "_________________________________________________________________\n",
      "conv2d_139 (Conv2D)          (None, 29, 29, 64)        73792     \n",
      "_________________________________________________________________\n",
      "max_pooling2d_121 (MaxPoolin (None, 14, 14, 64)        0         \n",
      "_________________________________________________________________\n",
      "conv2d_140 (Conv2D)          (None, 12, 12, 64)        36928     \n",
      "_________________________________________________________________\n",
      "max_pooling2d_122 (MaxPoolin (None, 6, 6, 64)          0         \n",
      "_________________________________________________________________\n",
      "conv2d_141 (Conv2D)          (None, 4, 4, 32)          18464     \n",
      "_________________________________________________________________\n",
      "conv2d_142 (Conv2D)          (None, 2, 2, 32)          9248      \n",
      "_________________________________________________________________\n",
      "flatten_26 (Flatten)         (None, 128)               0         \n",
      "_________________________________________________________________\n",
      "dense_50 (Dense)             (None, 32)                4128      \n",
      "_________________________________________________________________\n",
      "dense_51 (Dense)             (None, 4)                 132       \n",
      "=================================================================\n",
      "Total params: 146,276\n",
      "Trainable params: 146,276\n",
      "Non-trainable params: 0\n",
      "_________________________________________________________________\n"
     ]
    }
   ],
   "source": [
    "new_model= models.Sequential()\n",
    "new_model.load_weights('cnn_classification.h5', by_name=True)\n",
    "new_model.add(Conv2D(128, kernel_size=(3,3), activation = 'relu', input_shape=(64,64,3)))\n",
    "new_model.add(MaxPooling2D(pool_size=(2,2)))\n",
    "new_model.add(Conv2D(64, kernel_size=(3,3), activation = 'relu'))\n",
    "new_model.add(MaxPooling2D(pool_size=(2,2)))\n",
    "new_model.add(Conv2D(64, kernel_size=(3,3), activation = 'relu'))\n",
    "new_model.add(MaxPooling2D(pool_size=(2,2)))\n",
    "new_model.add(Conv2D(32, kernel_size=(3,3), activation = 'relu'))\n",
    "new_model.add(Conv2D(32, kernel_size=(3,3), activation = 'relu'))\n",
    "new_model.add(layers.Flatten())\n",
    "new_model.add(layers.Dense(32, activation='relu'))\n",
    "new_model.add(layers.Dense(4, activation='softmax'))\n",
    "new_model.summary()"
   ]
  },
  {
   "cell_type": "markdown",
   "metadata": {},
   "source": [
    "### Training the model after 5rd layer\n"
   ]
  },
  {
   "cell_type": "code",
   "execution_count": 129,
   "metadata": {},
   "outputs": [
    {
     "name": "stdout",
     "output_type": "stream",
     "text": [
      "<keras.layers.convolutional.Conv2D object at 0x000000628708BA20> False\n",
      "<keras.layers.pooling.MaxPooling2D object at 0x000000628708BE10> False\n",
      "<keras.layers.convolutional.Conv2D object at 0x000000628708B940> False\n",
      "<keras.layers.pooling.MaxPooling2D object at 0x0000006287B1A4E0> False\n",
      "<keras.layers.convolutional.Conv2D object at 0x0000006287A65780> False\n",
      "<keras.layers.pooling.MaxPooling2D object at 0x0000006287474828> False\n",
      "<keras.layers.convolutional.Conv2D object at 0x0000006287B1A6D8> True\n",
      "<keras.layers.convolutional.Conv2D object at 0x0000006287474DA0> True\n",
      "<keras.layers.core.Flatten object at 0x0000006287AA4F98> True\n",
      "<keras.layers.core.Dense object at 0x0000006287494198> True\n",
      "<keras.layers.core.Dense object at 0x0000006287494048> True\n",
      "_________________________________________________________________\n",
      "Layer (type)                 Output Shape              Param #   \n",
      "=================================================================\n",
      "conv2d_138 (Conv2D)          (None, 62, 62, 128)       3584      \n",
      "_________________________________________________________________\n",
      "max_pooling2d_120 (MaxPoolin (None, 31, 31, 128)       0         \n",
      "_________________________________________________________________\n",
      "conv2d_139 (Conv2D)          (None, 29, 29, 64)        73792     \n",
      "_________________________________________________________________\n",
      "max_pooling2d_121 (MaxPoolin (None, 14, 14, 64)        0         \n",
      "_________________________________________________________________\n",
      "conv2d_140 (Conv2D)          (None, 12, 12, 64)        36928     \n",
      "_________________________________________________________________\n",
      "max_pooling2d_122 (MaxPoolin (None, 6, 6, 64)          0         \n",
      "_________________________________________________________________\n",
      "conv2d_141 (Conv2D)          (None, 4, 4, 32)          18464     \n",
      "_________________________________________________________________\n",
      "conv2d_142 (Conv2D)          (None, 2, 2, 32)          9248      \n",
      "_________________________________________________________________\n",
      "flatten_26 (Flatten)         (None, 128)               0         \n",
      "_________________________________________________________________\n",
      "dense_50 (Dense)             (None, 32)                4128      \n",
      "_________________________________________________________________\n",
      "dense_51 (Dense)             (None, 4)                 132       \n",
      "=================================================================\n",
      "Total params: 146,276\n",
      "Trainable params: 31,972\n",
      "Non-trainable params: 114,304\n",
      "_________________________________________________________________\n"
     ]
    }
   ],
   "source": [
    "for layer in new_model.layers[:6]:\n",
    "    layer.trainable = False\n",
    "\n",
    "for layer in new_model.layers:\n",
    "    print(layer, layer.trainable)\n",
    "new_model.summary()"
   ]
  },
  {
   "cell_type": "code",
   "execution_count": 132,
   "metadata": {},
   "outputs": [],
   "source": [
    "# Here we are changing the learning rate from 0.001 to 0.01"
   ]
  },
  {
   "cell_type": "code",
   "execution_count": 131,
   "metadata": {},
   "outputs": [
    {
     "name": "stdout",
     "output_type": "stream",
     "text": [
      "Epoch 1/10\n",
      "139/138 [==============================] - 21s 153ms/step - loss: 1.1546 - acc: 0.5216 - val_loss: 1.0522 - val_acc: 0.5402\n",
      "Epoch 2/10\n",
      "139/138 [==============================] - 22s 156ms/step - loss: 0.9403 - acc: 0.5819 - val_loss: 0.8292 - val_acc: 0.6898\n",
      "Epoch 3/10\n",
      "139/138 [==============================] - 22s 157ms/step - loss: 0.7030 - acc: 0.7209 - val_loss: 0.6638 - val_acc: 0.7244\n",
      "Epoch 4/10\n",
      "139/138 [==============================] - 22s 156ms/step - loss: 0.6528 - acc: 0.7376 - val_loss: 0.7012 - val_acc: 0.6992\n",
      "Epoch 5/10\n",
      "139/138 [==============================] - 22s 161ms/step - loss: 0.5458 - acc: 0.7794 - val_loss: 0.5644 - val_acc: 0.7858\n",
      "Epoch 6/10\n",
      "139/138 [==============================] - 22s 161ms/step - loss: 0.5439 - acc: 0.7845 - val_loss: 0.6368 - val_acc: 0.7181\n",
      "Epoch 7/10\n",
      "139/138 [==============================] - 23s 165ms/step - loss: 0.5466 - acc: 0.7768 - val_loss: 0.5835 - val_acc: 0.7669\n",
      "Epoch 8/10\n",
      "139/138 [==============================] - 21s 153ms/step - loss: 0.4695 - acc: 0.8125 - val_loss: 0.5093 - val_acc: 0.8110\n",
      "Epoch 9/10\n",
      "139/138 [==============================] - 21s 152ms/step - loss: 0.4471 - acc: 0.8255 - val_loss: 0.4788 - val_acc: 0.8063\n",
      "Epoch 10/10\n",
      "139/138 [==============================] - 24s 172ms/step - loss: 0.4378 - acc: 0.8193 - val_loss: 0.4777 - val_acc: 0.8079\n"
     ]
    }
   ],
   "source": [
    "sgd = SGD(lr=0.01,decay=1e-6, momentum=0.9, nesterov=True)\n",
    "# We are going to use accuracy metrics and cross entropy loss as performance parameters\n",
    "new_model.compile(sgd, loss='categorical_crossentropy', metrics=['acc'])\n",
    "# Train the model \n",
    "new_history = new_model.fit_generator(train_generator, \n",
    "      steps_per_epoch=train_generator.samples/train_generator.batch_size,\n",
    "      epochs=10,\n",
    "      validation_data=validation_generator,\n",
    "      validation_steps=validation_generator.samples/validation_generator.batch_size,\n",
    "      verbose=1)"
   ]
  },
  {
   "cell_type": "markdown",
   "metadata": {},
   "source": [
    "### C. Performance Measures\n",
    "\n",
    "**Now we are going to plot the accuracy and loss **"
   ]
  },
  {
   "cell_type": "code",
   "execution_count": 133,
   "metadata": {},
   "outputs": [],
   "source": [
    "train_acc = new_history.history['acc']\n",
    "val_acc = new_history.history['val_acc']\n",
    "train_loss = new_history.history['loss']\n",
    "val_loss = new_history.history['val_loss']"
   ]
  },
  {
   "cell_type": "code",
   "execution_count": 134,
   "metadata": {
    "scrolled": true
   },
   "outputs": [
    {
     "data": {
      "image/png": "[encoded data removed]",
      "text/plain": [
       "<Figure size 432x288 with 1 Axes>"
      ]
     },
     "metadata": {},
     "output_type": "display_data"
    },
    {
     "data": {
      "text/plain": [
       "<Figure size 432x288 with 0 Axes>"
      ]
     },
     "metadata": {},
     "output_type": "display_data"
    },
    {
     "data": {
      "image/png": "[encoded data removed]",
      "text/plain": [
       "<Figure size 432x288 with 1 Axes>"
      ]
     },
     "metadata": {},
     "output_type": "display_data"
    }
   ],
   "source": [
    "epochs = range(len(acc)) \n",
    "plt.plot(epochs, train_acc, 'b', label='Training Accuracy')\n",
    "plt.plot(epochs, val_acc, 'r', label='Validation Accuracy')\n",
    "plt.title('Training and Validation Accuracy')\n",
    "plt.legend()\n",
    "plt.figure()\n",
    "plt.show()\n",
    "\n",
    "plt.plot(epochs, train_loss, 'b', label='Training Loss')\n",
    "plt.plot(epochs, val_loss, 'r', label='Validation Loss')\n",
    "plt.title('Training and Validation Loss')\n",
    "plt.legend()\n",
    "plt.show()\n"
   ]
  },
  {
   "cell_type": "markdown",
   "metadata": {},
   "source": [
    "# Model Testing"
   ]
  },
  {
   "cell_type": "code",
   "execution_count": 135,
   "metadata": {},
   "outputs": [
    {
     "name": "stdout",
     "output_type": "stream",
     "text": [
      "319/319 [==============================] - 3s 10ms/step\n",
      "No of errors = 81/319\n"
     ]
    }
   ],
   "source": [
    "# Get the filenames from the generator\n",
    "fnames = test_generator.filenames\n",
    " \n",
    "# Get the ground truth from generator\n",
    "ground_truth = test_generator.classes\n",
    " \n",
    "# Get the label to class mapping from the generator\n",
    "label2index = test_generator.class_indices\n",
    " \n",
    "# Getting the mapping from class index to class label\n",
    "idx2label = dict((v,k) for k,v in label2index.items())\n",
    " \n",
    "# Get the predictions from the model using the generator\n",
    "predictions = model.predict_generator(test_generator, steps=test_generator.samples/test_generator.batch_size,verbose=1)\n",
    "predicted_classes = np.argmax(predictions,axis=1)\n",
    " \n",
    "errors = np.where(predicted_classes != ground_truth)[0]\n",
    "print(\"No of errors = {}/{}\".format(len(errors),test_generator.samples))\n"
   ]
  },
  {
   "cell_type": "code",
   "execution_count": null,
   "metadata": {},
   "outputs": [],
   "source": []
  }
 ],
 "metadata": {
  "kernelspec": {
   "display_name": "Python 3",
   "language": "python",
   "name": "python3"
  },
  "language_info": {
   "codemirror_mode": {
    "name": "ipython",
    "version": 3
   },
   "file_extension": ".py",
   "mimetype": "text/x-python",
   "name": "python",
   "nbconvert_exporter": "python",
   "pygments_lexer": "ipython3",
   "version": "3.6.5"
  }
 },
 "nbformat": 4,
 "nbformat_minor": 2
}
