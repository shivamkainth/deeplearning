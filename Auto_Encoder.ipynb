{
  "nbformat": 4,
  "nbformat_minor": 0,
  "metadata": {
    "colab": {
      "name": "Auto Encoder.ipynb",
      "version": "0.3.2",
      "provenance": [],
      "include_colab_link": true
    },
    "kernelspec": {
      "name": "python3",
      "display_name": "Python 3"
    }
  },
  "cells": [
    {
      "cell_type": "markdown",
      "metadata": {
        "id": "view-in-github",
        "colab_type": "text"
      },
      "source": [
        "<a href=\"https://colab.research.google.com/github/shivamkainth/deeplearning/blob/master/Auto_Encoder.ipynb\" target=\"_parent\"><img src=\"https://colab.research.google.com/assets/colab-badge.svg\" alt=\"Open In Colab\"/></a>"
      ]
    },
    {
      "cell_type": "markdown",
      "metadata": {
        "id": "OerV9zauYOG0",
        "colab_type": "text"
      },
      "source": [
        "\n",
        "\n",
        " # **Building an AutoEncoder model**\n",
        "\n"
      ]
    },
    {
      "cell_type": "markdown",
      "metadata": {
        "id": "uXZaeCOIYjqg",
        "colab_type": "text"
      },
      "source": [
        "##1.1 Importing LIbraries"
      ]
    },
    {
      "cell_type": "code",
      "metadata": {
        "id": "NEKsFZzaX-gY",
        "colab_type": "code",
        "colab": {
          "base_uri": "https://localhost:8080/",
          "height": 110
        },
        "outputId": "b18fe3a4-2bac-40d8-ff7e-251605f8372f"
      },
      "source": [
        "from keras.layers import Input, Dense\n",
        "from keras.models import Model\n",
        "\n",
        "# this is the size of our encoded representations\n",
        "encoding_dim = 32  # 32 floats -> compression of factor 24.5, assuming the input is 784 floats\n",
        "\n",
        "# this is our input placeholder\n",
        "input_img = Input(shape=(784,))\n",
        "# \"encoded\" is the encoded representation of the input\n",
        "encoded = Dense(encoding_dim, activation='relu')(input_img)\n",
        "# \"decoded\" is the lossy reconstruction of the input\n",
        "decoded = Dense(784, activation='sigmoid')(encoded)\n",
        "\n",
        "# this model maps an input to its reconstruction\n",
        "autoencoder = Model(input_img, decoded)"
      ],
      "execution_count": 1,
      "outputs": [
        {
          "output_type": "stream",
          "text": [
            "Using TensorFlow backend.\n"
          ],
          "name": "stderr"
        },
        {
          "output_type": "stream",
          "text": [
            "WARNING:tensorflow:From /usr/local/lib/python3.6/dist-packages/tensorflow/python/framework/op_def_library.py:263: colocate_with (from tensorflow.python.framework.ops) is deprecated and will be removed in a future version.\n",
            "Instructions for updating:\n",
            "Colocations handled automatically by placer.\n"
          ],
          "name": "stdout"
        }
      ]
    },
    {
      "cell_type": "code",
      "metadata": {
        "id": "_9NV23l5Y728",
        "colab_type": "code",
        "colab": {}
      },
      "source": [
        "#Sepreate Encoder model\n",
        "encoder = Model(input_img, encoded)\n",
        "#Seperate Decoder model\n",
        "# create a placeholder for an encoded (32-dimensional) input\n",
        "encoded_input = Input(shape=(encoding_dim,))\n",
        "# retrieve the last layer of the autoencoder model\n",
        "decoder_layer = autoencoder.layers[-1]\n",
        "# create the decoder model\n",
        "decoder = Model(encoded_input, decoder_layer(encoded_input))"
      ],
      "execution_count": 0,
      "outputs": []
    },
    {
      "cell_type": "markdown",
      "metadata": {
        "id": "Lda3gwEbZM8s",
        "colab_type": "text"
      },
      "source": [
        "## 1.2 Defining the model"
      ]
    },
    {
      "cell_type": "code",
      "metadata": {
        "id": "TtUdD6EFZQRM",
        "colab_type": "code",
        "colab": {}
      },
      "source": [
        "autoencoder.compile(optimizer='adadelta', loss='binary_crossentropy')"
      ],
      "execution_count": 0,
      "outputs": []
    },
    {
      "cell_type": "markdown",
      "metadata": {
        "id": "JTioxbGCZYeM",
        "colab_type": "text"
      },
      "source": [
        "## 1.3 Data Preprocessing"
      ]
    },
    {
      "cell_type": "code",
      "metadata": {
        "id": "Hiw73oFuZje4",
        "colab_type": "code",
        "colab": {
          "base_uri": "https://localhost:8080/",
          "height": 90
        },
        "outputId": "50b47c28-7b5b-45c3-ec3a-36b79897d0ac"
      },
      "source": [
        "from keras.datasets import mnist\n",
        "import numpy as np\n",
        "(x_train, _), (x_test, _) = mnist.load_data()\n",
        "#Normalization\n",
        "x_train = x_train.astype('float32') / 255.\n",
        "x_test = x_test.astype('float32') / 255.\n",
        "x_train = x_train.reshape((len(x_train), np.prod(x_train.shape[1:])))\n",
        "x_test = x_test.reshape((len(x_test), np.prod(x_test.shape[1:])))\n",
        "print (x_train.shape)\n",
        "print (x_test.shape)"
      ],
      "execution_count": 5,
      "outputs": [
        {
          "output_type": "stream",
          "text": [
            "Downloading data from https://s3.amazonaws.com/img-datasets/mnist.npz\n",
            "11493376/11490434 [==============================] - 1s 0us/step\n",
            "(60000, 784)\n",
            "(10000, 784)\n"
          ],
          "name": "stdout"
        }
      ]
    },
    {
      "cell_type": "markdown",
      "metadata": {
        "id": "Lb2-L0XvZqAE",
        "colab_type": "text"
      },
      "source": [
        "## 1.4 Training the model"
      ]
    },
    {
      "cell_type": "code",
      "metadata": {
        "id": "cAkg2cbeZsr8",
        "colab_type": "code",
        "colab": {
          "base_uri": "https://localhost:8080/",
          "height": 1966
        },
        "outputId": "2feac50f-4245-4ec6-a324-fb4dd9607b00"
      },
      "source": [
        "autoencoder.fit(x_train, x_train,\n",
        "                epochs=50,\n",
        "                batch_size=256,\n",
        "                shuffle=True,\n",
        "                validation_data=(x_test, x_test))"
      ],
      "execution_count": 6,
      "outputs": [
        {
          "output_type": "stream",
          "text": [
            "WARNING:tensorflow:From /usr/local/lib/python3.6/dist-packages/tensorflow/python/ops/math_ops.py:3066: to_int32 (from tensorflow.python.ops.math_ops) is deprecated and will be removed in a future version.\n",
            "Instructions for updating:\n",
            "Use tf.cast instead.\n",
            "Train on 60000 samples, validate on 10000 samples\n",
            "Epoch 1/50\n",
            "60000/60000 [==============================] - 5s 89us/step - loss: 0.3479 - val_loss: 0.2696\n",
            "Epoch 2/50\n",
            "60000/60000 [==============================] - 5s 78us/step - loss: 0.2611 - val_loss: 0.2486\n",
            "Epoch 3/50\n",
            "60000/60000 [==============================] - 5s 78us/step - loss: 0.2382 - val_loss: 0.2262\n",
            "Epoch 4/50\n",
            "60000/60000 [==============================] - 5s 78us/step - loss: 0.2193 - val_loss: 0.2101\n",
            "Epoch 5/50\n",
            "60000/60000 [==============================] - 5s 77us/step - loss: 0.2055 - val_loss: 0.1985\n",
            "Epoch 6/50\n",
            "60000/60000 [==============================] - 5s 77us/step - loss: 0.1950 - val_loss: 0.1889\n",
            "Epoch 7/50\n",
            "60000/60000 [==============================] - 5s 80us/step - loss: 0.1865 - val_loss: 0.1812\n",
            "Epoch 8/50\n",
            "60000/60000 [==============================] - 5s 82us/step - loss: 0.1793 - val_loss: 0.1746\n",
            "Epoch 9/50\n",
            "60000/60000 [==============================] - 5s 80us/step - loss: 0.1731 - val_loss: 0.1688\n",
            "Epoch 10/50\n",
            "60000/60000 [==============================] - 5s 77us/step - loss: 0.1676 - val_loss: 0.1638\n",
            "Epoch 11/50\n",
            "60000/60000 [==============================] - 5s 77us/step - loss: 0.1628 - val_loss: 0.1593\n",
            "Epoch 12/50\n",
            "60000/60000 [==============================] - 5s 77us/step - loss: 0.1584 - val_loss: 0.1552\n",
            "Epoch 13/50\n",
            "60000/60000 [==============================] - 5s 77us/step - loss: 0.1545 - val_loss: 0.1513\n",
            "Epoch 14/50\n",
            "60000/60000 [==============================] - 5s 77us/step - loss: 0.1508 - val_loss: 0.1478\n",
            "Epoch 15/50\n",
            "60000/60000 [==============================] - 5s 77us/step - loss: 0.1474 - val_loss: 0.1445\n",
            "Epoch 16/50\n",
            "60000/60000 [==============================] - 5s 77us/step - loss: 0.1443 - val_loss: 0.1415\n",
            "Epoch 17/50\n",
            "60000/60000 [==============================] - 5s 76us/step - loss: 0.1415 - val_loss: 0.1387\n",
            "Epoch 18/50\n",
            "60000/60000 [==============================] - 5s 76us/step - loss: 0.1389 - val_loss: 0.1363\n",
            "Epoch 19/50\n",
            "60000/60000 [==============================] - 5s 76us/step - loss: 0.1364 - val_loss: 0.1340\n",
            "Epoch 20/50\n",
            "60000/60000 [==============================] - 5s 75us/step - loss: 0.1342 - val_loss: 0.1317\n",
            "Epoch 21/50\n",
            "60000/60000 [==============================] - 4s 75us/step - loss: 0.1321 - val_loss: 0.1297\n",
            "Epoch 22/50\n",
            "60000/60000 [==============================] - 5s 75us/step - loss: 0.1302 - val_loss: 0.1278\n",
            "Epoch 23/50\n",
            "60000/60000 [==============================] - 4s 75us/step - loss: 0.1284 - val_loss: 0.1261\n",
            "Epoch 24/50\n",
            "60000/60000 [==============================] - 5s 75us/step - loss: 0.1266 - val_loss: 0.1243\n",
            "Epoch 25/50\n",
            "60000/60000 [==============================] - 5s 75us/step - loss: 0.1250 - val_loss: 0.1227\n",
            "Epoch 26/50\n",
            "60000/60000 [==============================] - 5s 76us/step - loss: 0.1234 - val_loss: 0.1212\n",
            "Epoch 27/50\n",
            "60000/60000 [==============================] - 5s 76us/step - loss: 0.1219 - val_loss: 0.1197\n",
            "Epoch 28/50\n",
            "60000/60000 [==============================] - 5s 76us/step - loss: 0.1205 - val_loss: 0.1182\n",
            "Epoch 29/50\n",
            "60000/60000 [==============================] - 4s 74us/step - loss: 0.1191 - val_loss: 0.1169\n",
            "Epoch 30/50\n",
            "60000/60000 [==============================] - 4s 75us/step - loss: 0.1178 - val_loss: 0.1157\n",
            "Epoch 31/50\n",
            "60000/60000 [==============================] - 4s 75us/step - loss: 0.1166 - val_loss: 0.1145\n",
            "Epoch 32/50\n",
            "60000/60000 [==============================] - 5s 76us/step - loss: 0.1154 - val_loss: 0.1133\n",
            "Epoch 33/50\n",
            "60000/60000 [==============================] - 5s 75us/step - loss: 0.1143 - val_loss: 0.1122\n",
            "Epoch 34/50\n",
            "60000/60000 [==============================] - 5s 80us/step - loss: 0.1133 - val_loss: 0.1112\n",
            "Epoch 35/50\n",
            "60000/60000 [==============================] - 5s 78us/step - loss: 0.1123 - val_loss: 0.1103\n",
            "Epoch 36/50\n",
            "60000/60000 [==============================] - 5s 76us/step - loss: 0.1114 - val_loss: 0.1094\n",
            "Epoch 37/50\n",
            "60000/60000 [==============================] - 5s 76us/step - loss: 0.1105 - val_loss: 0.1085\n",
            "Epoch 38/50\n",
            "60000/60000 [==============================] - 5s 76us/step - loss: 0.1097 - val_loss: 0.1078\n",
            "Epoch 39/50\n",
            "60000/60000 [==============================] - 5s 76us/step - loss: 0.1090 - val_loss: 0.1070\n",
            "Epoch 40/50\n",
            "60000/60000 [==============================] - 4s 75us/step - loss: 0.1083 - val_loss: 0.1063\n",
            "Epoch 41/50\n",
            "60000/60000 [==============================] - 5s 76us/step - loss: 0.1076 - val_loss: 0.1057\n",
            "Epoch 42/50\n",
            "60000/60000 [==============================] - 5s 75us/step - loss: 0.1070 - val_loss: 0.1051\n",
            "Epoch 43/50\n",
            "60000/60000 [==============================] - 5s 75us/step - loss: 0.1064 - val_loss: 0.1045\n",
            "Epoch 44/50\n",
            "60000/60000 [==============================] - 5s 75us/step - loss: 0.1058 - val_loss: 0.1040\n",
            "Epoch 45/50\n",
            "60000/60000 [==============================] - 4s 75us/step - loss: 0.1053 - val_loss: 0.1035\n",
            "Epoch 46/50\n",
            "60000/60000 [==============================] - 5s 76us/step - loss: 0.1048 - val_loss: 0.1030\n",
            "Epoch 47/50\n",
            "60000/60000 [==============================] - 4s 75us/step - loss: 0.1044 - val_loss: 0.1026\n",
            "Epoch 48/50\n",
            "60000/60000 [==============================] - 4s 74us/step - loss: 0.1040 - val_loss: 0.1022\n",
            "Epoch 49/50\n",
            "60000/60000 [==============================] - 4s 74us/step - loss: 0.1036 - val_loss: 0.1018\n",
            "Epoch 50/50\n",
            "60000/60000 [==============================] - 4s 74us/step - loss: 0.1032 - val_loss: 0.1014\n"
          ],
          "name": "stdout"
        },
        {
          "output_type": "execute_result",
          "data": {
            "text/plain": [
              "<keras.callbacks.History at 0x7f15d73d6f28>"
            ]
          },
          "metadata": {
            "tags": []
          },
          "execution_count": 6
        }
      ]
    },
    {
      "cell_type": "markdown",
      "metadata": {
        "id": "MYMzkRblZxbE",
        "colab_type": "text"
      },
      "source": [
        "## 1.5 Displaying the output"
      ]
    },
    {
      "cell_type": "code",
      "metadata": {
        "id": "LDZYI-gNZ0mM",
        "colab_type": "code",
        "colab": {
          "base_uri": "https://localhost:8080/",
          "height": 244
        },
        "outputId": "6809884f-c14b-4ba9-9e01-72ea5b3bcca9"
      },
      "source": [
        "encoded_imgs = encoder.predict(x_test)\n",
        "decoded_imgs = decoder.predict(encoded_imgs)\n",
        "\n",
        "# use Matplotlib (don't ask)\n",
        "import matplotlib.pyplot as plt\n",
        "\n",
        "n = 10  # how many digits we will display\n",
        "plt.figure(figsize=(20, 4))\n",
        "for i in range(n):\n",
        "    # display original\n",
        "    ax = plt.subplot(2, n, i + 1)\n",
        "    plt.imshow(x_test[i].reshape(28, 28))\n",
        "    plt.gray()\n",
        "    ax.get_xaxis().set_visible(False)\n",
        "    ax.get_yaxis().set_visible(False)\n",
        "\n",
        "    # display reconstruction\n",
        "    ax = plt.subplot(2, n, i + 1 + n)\n",
        "    plt.imshow(decoded_imgs[i].reshape(28, 28))\n",
        "    plt.gray()\n",
        "    ax.get_xaxis().set_visible(False)\n",
        "    ax.get_yaxis().set_visible(False)\n",
        "plt.show()"
      ],
      "execution_count": 7,
      "outputs": [
        {
          "output_type": "display_data",
          "data": {
            "image/png": "[encoded data removed]",
            "text/plain": [
              "<Figure size 1440x288 with 20 Axes>"
            ]
          },
          "metadata": {
            "tags": []
          }
        }
      ]
    }
  ]
}